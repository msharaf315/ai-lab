{
 "cells": [
  {
   "cell_type": "code",
   "execution_count": 1,
   "metadata": {},
   "outputs": [],
   "source": [
    "from ultralytics import YOLO\n",
    "\n"
   ]
  },
  {
   "cell_type": "code",
   "execution_count": 4,
   "metadata": {},
   "outputs": [],
   "source": [
    "model_path = \"/Users/sharaf/github/ai-lab/models/best_from_google.pt\"\n",
    "data_path = \"/Users/HP/Downloads/test/images\""
   ]
  },
  {
   "cell_type": "code",
   "execution_count": 5,
   "metadata": {},
   "outputs": [],
   "source": [
    "model = YOLO(model_path)"
   ]
  },
  {
   "cell_type": "code",
   "execution_count": 4,
   "metadata": {},
   "outputs": [],
   "source": [
    "# Shows validation score\n",
    "# model.val(data=data_path, device='mps')"
   ]
  },
  {
   "cell_type": "code",
   "execution_count": 5,
   "metadata": {},
   "outputs": [
    {
     "name": "stdout",
     "output_type": "stream",
     "text": [
      "\n",
      "image 1/1 c:\\Users\\HP\\Desktop\\everdell.JPG: 640x480 1 basic-event-grand-tour, 2 farm-cards, 1 gemischtwarenladen-card, 1 holzschnitzer-card, 1 lager-card, 1 mine-card, 2 score-token-1s, 2 score-token-3s, 1 verlies-card, 2567.4ms\n",
      "Speed: 4.0ms preprocess, 2567.4ms inference, 31.0ms postprocess per image at shape (1, 3, 640, 480)\n"
     ]
    },
    {
     "data": {
      "text/plain": [
       "[ultralytics.engine.results.Results object with attributes:\n",
       " \n",
       " boxes: ultralytics.engine.results.Boxes object\n",
       " keypoints: None\n",
       " masks: ultralytics.engine.results.Masks object\n",
       " names: {0: 'architekt-card', 1: 'ausguck-card', 2: 'barde-card', 3: 'basic-event-city-monument', 4: 'basic-event-expedition', 5: 'basic-event-grand-tour', 6: 'basic-event-harvest-festival', 7: 'basic-location-1-berry', 8: 'basic-location-1-berry-1-card', 9: 'basic-location-1-resen-1-card', 10: 'basic-location-1-stone', 11: 'basic-location-2-card-1-score', 12: 'basic-location-2-resen', 13: 'basic-location-2-wood-1-card', 14: 'basic-location-3-wood', 15: 'berry', 16: 'board', 17: 'boot-aus-zweigen-card', 18: 'bootskrote-card', 19: 'brieftaube-card', 20: 'doktor-card', 21: 'ehefrau-card', 22: 'ehemann-card', 23: 'farm-card', 24: 'fegehorchen-card', 25: 'festplatz-card', 26: 'forrest-cards', 27: 'friedhof-card', 28: 'gasthaus-card', 29: 'gastwirt-card', 30: 'gemischtwarenladen-card', 31: 'gericht-card', 32: 'harzraffinerie-card', 33: 'hausierer-card', 34: 'haven', 35: 'hirtin-card', 36: 'historiker-card', 37: 'holzschnitzer-card', 38: 'immerbaum-card', 39: 'journey-2', 40: 'journey-3', 41: 'journey-4', 42: 'journey-5', 43: 'kapelle-card', 44: 'kloster-card', 45: 'konig-card', 46: 'konigin-card', 47: 'kran-card', 48: 'ladeninhaber-card', 49: 'lager-card', 50: 'lehrer-card', 51: 'meinenmaulwurf-card', 52: 'mine-card', 53: 'minenmaulwurf-card', 54: 'monch-card', 55: 'narr-card', 56: 'occupied-token', 57: 'palast-card', 58: 'post-card', 59: 'resen', 60: 'richterin-card', 61: 'ruine-card', 62: 'schloss-card', 63: 'schule-card', 64: 'score-token-1', 65: 'score-token-3', 66: 'special-event-card', 67: 'stone', 68: 'theatre-card', 69: 'totengraberin-card', 70: 'uhrenturm-card', 71: 'universitat-card', 72: 'verlies-card', 73: 'waldlaufer-card', 74: 'wanderin-card', 75: 'wood', 76: 'worker-player-1', 77: 'worker-player-2'}\n",
       " obb: None\n",
       " orig_img: array([[[225, 230, 231],\n",
       "         [222, 227, 228],\n",
       "         [219, 224, 225],\n",
       "         ...,\n",
       "         [186, 201, 210],\n",
       "         [195, 210, 219],\n",
       "         [204, 219, 228]],\n",
       " \n",
       "        [[226, 231, 232],\n",
       "         [223, 228, 229],\n",
       "         [222, 227, 228],\n",
       "         ...,\n",
       "         [183, 198, 207],\n",
       "         [189, 204, 213],\n",
       "         [194, 209, 218]],\n",
       " \n",
       "        [[221, 226, 227],\n",
       "         [220, 225, 226],\n",
       "         [219, 224, 225],\n",
       "         ...,\n",
       "         [178, 193, 202],\n",
       "         [178, 193, 202],\n",
       "         [179, 194, 203]],\n",
       " \n",
       "        ...,\n",
       " \n",
       "        [[120, 132, 136],\n",
       "         [122, 134, 138],\n",
       "         [124, 136, 140],\n",
       "         ...,\n",
       "         [247, 251, 252],\n",
       "         [243, 247, 248],\n",
       "         [232, 236, 237]],\n",
       " \n",
       "        [[117, 129, 133],\n",
       "         [121, 133, 137],\n",
       "         [126, 138, 142],\n",
       "         ...,\n",
       "         [245, 249, 250],\n",
       "         [240, 244, 245],\n",
       "         [227, 231, 232]],\n",
       " \n",
       "        [[116, 128, 132],\n",
       "         [121, 133, 137],\n",
       "         [127, 139, 143],\n",
       "         ...,\n",
       "         [243, 247, 248],\n",
       "         [238, 242, 243],\n",
       "         [225, 229, 230]]], dtype=uint8)\n",
       " orig_shape: (4032, 3024)\n",
       " path: 'c:\\\\Users\\\\HP\\\\Desktop\\\\everdell.JPG'\n",
       " probs: None\n",
       " save_dir: 'runs\\\\segment\\\\predict'\n",
       " speed: {'preprocess': 3.9641857147216797, 'inference': 2567.4452781677246, 'postprocess': 30.99513053894043}]"
      ]
     },
     "execution_count": 5,
     "metadata": {},
     "output_type": "execute_result"
    }
   ],
   "source": [
    "#predictions = model(data_path)\n",
    "predictions = model(\"/Users/HP/Desktop/everdell.JPG\")\n",
    "predictions"
   ]
  },
  {
   "cell_type": "code",
   "execution_count": 1,
   "metadata": {},
   "outputs": [
    {
     "name": "stdout",
     "output_type": "stream",
     "text": [
      "Creating BaseItem instance for: architekt-card\n",
      "Creating BaseItem instance for: wanderin-card\n",
      "Creating BaseItem instance for: ehemann-card\n",
      "Creating BaseItem instance for: special-event-card\n",
      "Creating Resource instance for: berry\n",
      "$berry init and used = $False\n",
      "Creating Resource instance for: berry\n",
      "$berry init and used = $False\n",
      "Creating Resource instance for: stone\n",
      "$stone init and used = $False\n",
      "Creating Resource instance for: worker-2\n",
      "$worker-2 init and used = $False\n",
      "stone\n",
      "2\n",
      "architekt-card: 2\n",
      "King: prosperty_score = 4 + 2 because of special-event-card\n",
      "konig-card: 6\n",
      "King: prosperty_score = 4 + 2 because of special-event-card\n",
      "King: prosperty_score = 4 + 2 because of special-event-card\n",
      "Wife: prosperty_score = 2 + 3 because of ehemann-card\n",
      "ehefrau-card: 5\n",
      "Wife: prosperty_score = 2 + 3 because of ehemann-card\n",
      "Wife: prosperty_score = 2 + 3 because of ehemann-card\n",
      "schloss-card: 4\n",
      "Evertree: prosperty_score = 5 + 1 because of konig-card which is prosperty card\n",
      "Evertree: prosperty_score = 6 + 1 because of ehefrau-card which is prosperty card\n",
      "Evertree: prosperty_score = 7 + 1 because of schloss-card which is prosperty card\n",
      "Evertree: prosperty_score = 8 + 1 because of palast-card which is prosperty card\n",
      "Evertree: prosperty_score = 9 + 1 because of schule-card which is prosperty card\n",
      "Evertree: prosperty_score = 10 + 1 because of theater-card which is prosperty card\n",
      "immerbaum-card: 11\n",
      "Evertree: prosperty_score = 5 + 1 because of konig-card which is prosperty card\n",
      "Evertree: prosperty_score = 6 + 1 because of ehefrau-card which is prosperty card\n",
      "Evertree: prosperty_score = 7 + 1 because of schloss-card which is prosperty card\n",
      "Evertree: prosperty_score = 8 + 1 because of palast-card which is prosperty card\n",
      "Evertree: prosperty_score = 9 + 1 because of schule-card which is prosperty card\n",
      "Evertree: prosperty_score = 10 + 1 because of theater-card which is prosperty card\n",
      "Evertree: prosperty_score = 5 + 1 because of konig-card which is prosperty card\n",
      "Evertree: prosperty_score = 6 + 1 because of ehefrau-card which is prosperty card\n",
      "Evertree: prosperty_score = 7 + 1 because of schloss-card which is prosperty card\n",
      "Evertree: prosperty_score = 8 + 1 because of palast-card which is prosperty card\n",
      "Evertree: prosperty_score = 9 + 1 because of schule-card which is prosperty card\n",
      "Evertree: prosperty_score = 10 + 1 because of theater-card which is prosperty card\n",
      "Palace: prosperty_score = 4 + 1 because of schloss-card which is unique construction\n",
      "Palace: prosperty_score = 5 + 1 because of immerbaum-card which is unique construction\n",
      "Palace: prosperty_score = 6 + 1 because of palast-card which is unique construction\n",
      "Palace: prosperty_score = 7 + 1 because of theater-card which is unique construction\n",
      "palast-card: 8\n",
      "Palace: prosperty_score = 4 + 1 because of schloss-card which is unique construction\n",
      "Palace: prosperty_score = 5 + 1 because of immerbaum-card which is unique construction\n",
      "Palace: prosperty_score = 6 + 1 because of palast-card which is unique construction\n",
      "Palace: prosperty_score = 7 + 1 because of theater-card which is unique construction\n",
      "Palace: prosperty_score = 4 + 1 because of schloss-card which is unique construction\n",
      "Palace: prosperty_score = 5 + 1 because of immerbaum-card which is unique construction\n",
      "Palace: prosperty_score = 6 + 1 because of palast-card which is unique construction\n",
      "Palace: prosperty_score = 7 + 1 because of theater-card which is unique construction\n",
      "School: prosperty_score = 1 + 1 because of ehefrau-card which is common critter\n",
      "School: prosperty_score = 2 + 1 because of wanderin-card which is common critter\n",
      "School: prosperty_score = 3 + 1 because of ehemann-card which is common critter\n",
      "schule-card: 4\n",
      "School: prosperty_score = 1 + 1 because of ehefrau-card which is common critter\n",
      "School: prosperty_score = 2 + 1 because of wanderin-card which is common critter\n",
      "School: prosperty_score = 3 + 1 because of ehemann-card which is common critter\n",
      "School: prosperty_score = 1 + 1 because of ehefrau-card which is common critter\n",
      "School: prosperty_score = 2 + 1 because of wanderin-card which is common critter\n",
      "School: prosperty_score = 3 + 1 because of ehemann-card which is common critter\n",
      "Theater: prosperty_score = 3 + 1 because of architekt-card which is unique critter\n",
      "Theater: prosperty_score = 4 + 1 because of konig-card which is unique critter\n",
      "theater-card: 5\n",
      "Theater: prosperty_score = 3 + 1 because of architekt-card which is unique critter\n",
      "Theater: prosperty_score = 4 + 1 because of konig-card which is unique critter\n",
      "Theater: prosperty_score = 3 + 1 because of architekt-card which is unique critter\n",
      "Theater: prosperty_score = 4 + 1 because of konig-card which is unique critter\n",
      "wanderin-card: 1\n",
      "ehemann-card: 2\n",
      "special-event-card: 1\n",
      "(49, ['architekt-card: 2', 'konig-card: 6', 'ehefrau-card: 5', 'schloss-card: 4', 'immerbaum-card: 11', 'palast-card: 8', 'schule-card: 4', 'theater-card: 5', 'wanderin-card: 1', 'ehemann-card: 2', 'special-event-card: 1'])\n"
     ]
    }
   ],
   "source": [
    "from schema.base_class import BaseItem, Resource, Box\n",
    "from schema.everdell_image import EverdellImage\n",
    "\n",
    "cards = [\n",
    "    BaseItem(name=\"architekt-card\", id=1, confidence=0.95, box=Box(0, 1, 0, 1), segments=None),\n",
    "    BaseItem(name=\"konig-card\", id=2, confidence=0.90, box=Box(1, 2, 1, 2), segments=None),\n",
    "    BaseItem(name=\"ehefrau-card\", id=3, confidence=0.85, box=Box(2, 3, 2, 3), segments=None),\n",
    "    BaseItem(name=\"schloss-card\", id=4, confidence=0.92, box=Box(3, 4, 3, 4), segments=None),\n",
    "    BaseItem(name=\"immerbaum-card\", id=5, confidence=0.88, box=Box(4, 5, 4, 5), segments=None),\n",
    "    BaseItem(name=\"palast-card\", id=6, confidence=0.93, box=Box(5, 6, 5, 6), segments=None),\n",
    "    BaseItem(name=\"schule-card\", id=7, confidence=0.89, box=Box(6, 7, 6, 7), segments=None),\n",
    "    BaseItem(name=\"theater-card\", id=8, confidence=0.91, box=Box(7, 8, 7, 8), segments=None),\n",
    "    BaseItem(name=\"wanderin-card\", id=9, confidence=0.87, box=Box(8, 9, 8, 9), segments=None),\n",
    "    BaseItem(name=\"ehemann-card\", id=3, confidence=0.85, box=Box(2, 3, 2, 3), segments=None),\n",
    "    BaseItem(name=\"special-event-card\", id=3, confidence=0.85, box=Box(11, 12, 11, 12), segments=None),\n",
    "]\n",
    "\n",
    "resources = [\n",
    "    Resource(name=\"berry\", id=11, confidence=0.97, box=Box(11.1, 11.2, 11.1, 11.2), segments=None),  \n",
    "    Resource(name=\"berry\", id=12, confidence=0.96, box=Box(11.3, 11.4, 11.3, 11.4), segments=None),  \n",
    "    Resource(name=\"stone\", id=13, confidence=0.98, box=Box(12, 13, 12, 13), segments=None),\n",
    "    Resource(name=\"worker-2\", id=14, confidence=0.99, box=Box(13, 14, 13, 14), segments=None),\n",
    "]\n",
    "print(resources[2].name)\n",
    "print(cards[0].calculate_score(cards,resources=resources))\n",
    "\n",
    "everdell_image = EverdellImage(items=cards, resources=resources, prediction=None)\n",
    "print(everdell_image.calculate_score())\n"
   ]
  },
  {
   "cell_type": "code",
   "execution_count": 7,
   "metadata": {},
   "outputs": [
    {
     "ename": "TypeError",
     "evalue": "EverdellImage.__init__() missing 3 required positional arguments: 'items', 'resources', and 'prediction'",
     "output_type": "error",
     "traceback": [
      "\u001b[1;31m---------------------------------------------------------------------------\u001b[0m",
      "\u001b[1;31mTypeError\u001b[0m                                 Traceback (most recent call last)",
      "Cell \u001b[1;32mIn[7], line 1\u001b[0m\n\u001b[1;32m----> 1\u001b[0m image \u001b[38;5;241m=\u001b[39m \u001b[43mEverdellImage\u001b[49m\u001b[43m(\u001b[49m\u001b[43m)\u001b[49m\n",
      "\u001b[1;31mTypeError\u001b[0m: EverdellImage.__init__() missing 3 required positional arguments: 'items', 'resources', and 'prediction'"
     ]
    }
   ],
   "source": [
    "\n",
    "image = EverdellImage()"
   ]
  },
  {
   "cell_type": "code",
   "execution_count": 9,
   "metadata": {},
   "outputs": [
    {
     "name": "stdout",
     "output_type": "stream",
     "text": [
      "Creating BaseItem instance for: farm-card\n",
      "Creating BaseItem instance for: score-token-1\n",
      "Creating BaseItem instance for: basic-event-grand-tour\n",
      "Creating BaseItem instance for: score-token-1\n",
      "Creating BaseItem instance for: farm-card\n",
      "Creating BaseItem instance for: kran-card\n",
      "Creating BaseItem instance for: gericht-card\n",
      "Creating BaseItem instance for: holzschnitzer-card\n",
      "Creating BaseItem instance for: lager-card\n",
      "Creating BaseItem instance for: boot-aus-zweigen-card\n",
      "Creating BaseItem instance for: universitat-card\n",
      "Creating BaseItem instance for: bootskrote-card\n"
     ]
    }
   ],
   "source": [
    "from schema.base_class import Box, BaseItem, Resource\n",
    "from schema.everdell_image import EverdellImage\n",
    "import json\n",
    "images: list[EverdellImage] = []\n",
    "# Iterate over each picture \n",
    "for prediction in predictions:\n",
    "    #prediction.show()  # display to screen\n",
    "    prediction_json = json.loads(prediction.to_json())\n",
    "    items: list[BaseItem] =  []\n",
    "    resources: list[Resource] = []\n",
    "    # For each object in each picture parse to the proper class\n",
    "    for object in prediction_json:\n",
    "        box_json = object[\"box\"]\n",
    "        box = Box(x1= box_json[\"x1\"], x2= box_json[\"x2\"], y1= box_json[\"y1\"], y2= box_json[\"y2\"])\n",
    "        item = BaseItem(object[\"name\"], object[\"class\"], object[\"confidence\"], box= box, segments=object[\"segments\"])\n",
    "        if isinstance(item, Resource):\n",
    "            resources.append(item)\n",
    "        else:\n",
    "            items.append(item)\n",
    "        \n",
    "    image = EverdellImage(items = items,resources=resources,prediction = prediction)\n",
    "    images.append(image)"
   ]
  },
  {
   "cell_type": "code",
   "execution_count": 10,
   "metadata": {},
   "outputs": [
    {
     "name": "stdout",
     "output_type": "stream",
     "text": [
      "['farm-card', 'score-token-1', 'basic-event-grand-tour', 'score-token-1', 'farm-card', 'kran-card', 'gericht-card', 'holzschnitzer-card', 'lager-card', 'boot-aus-zweigen-card', 'universitat-card', 'bootskrote-card']\n",
      "12\n",
      "farm-card: 1 \n",
      "\n",
      "score-token-1: 1 \n",
      "\n",
      "basic-event-grand-tour: 3 \n",
      "\n",
      "score-token-1: 1 \n",
      "\n",
      "farm-card: 1 \n",
      "\n",
      "kran-card: 1 \n",
      "\n",
      "gericht-card: 2 \n",
      "\n",
      "holzschnitzer-card: 2 \n",
      "\n",
      "lager-card: 2 \n",
      "\n",
      "boot-aus-zweigen-card: 1 \n",
      "\n",
      "universitat-card: 3 \n",
      "\n",
      "bootskrote-card: 1 \n",
      "\n",
      "19\n"
     ]
    }
   ],
   "source": [
    "for image in images:\n",
    "    print([item.name for item in image.items])\n",
    "    print(len(image.items))\n",
    "    print(image.calculate_score())\n",
    "    image.prediction.show()"
   ]
  }
 ],
 "metadata": {
  "kernelspec": {
   "display_name": ".venv",
   "language": "python",
   "name": "python3"
  },
  "language_info": {
   "codemirror_mode": {
    "name": "ipython",
    "version": 3
   },
   "file_extension": ".py",
   "mimetype": "text/x-python",
   "name": "python",
   "nbconvert_exporter": "python",
   "pygments_lexer": "ipython3",
   "version": "3.11.11"
  }
 },
 "nbformat": 4,
 "nbformat_minor": 2
}
