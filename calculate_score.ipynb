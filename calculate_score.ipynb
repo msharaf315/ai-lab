{
 "cells": [
  {
   "cell_type": "code",
   "execution_count": 1,
   "metadata": {},
   "outputs": [],
   "source": [
    "from ultralytics import YOLO\n",
    "\n"
   ]
  },
  {
   "cell_type": "code",
   "execution_count": 2,
   "metadata": {},
   "outputs": [],
   "source": [
    "model_path = \"/Users/HP/Downloads/15_epoch_individual_card_labels.pt\"\n",
    "data_path = \"/Users/HP/Downloads/test/images\""
   ]
  },
  {
   "cell_type": "code",
   "execution_count": 3,
   "metadata": {},
   "outputs": [],
   "source": [
    "model = YOLO(model_path)"
   ]
  },
  {
   "cell_type": "code",
   "execution_count": 4,
   "metadata": {},
   "outputs": [],
   "source": [
    "# Shows validation score\n",
    "# model.val(data=data_path, device='mps')"
   ]
  },
  {
   "cell_type": "code",
   "execution_count": 8,
   "metadata": {},
   "outputs": [
    {
     "name": "stdout",
     "output_type": "stream",
     "text": [
      "\n",
      "image 1/1 c:\\Users\\HP\\Desktop\\everdell.JPG: 640x480 1 basic-event-grand-tour, 1 boot-aus-zweigen-card, 1 bootskrote-card, 2 farm-cards, 1 gericht-card, 1 holzschnitzer-card, 1 kran-card, 1 lager-card, 2 score-token-1s, 1 universitat-card, 3264.7ms\n",
      "Speed: 4.0ms preprocess, 3264.7ms inference, 26.0ms postprocess per image at shape (1, 3, 640, 480)\n"
     ]
    },
    {
     "data": {
      "text/plain": [
       "[ultralytics.engine.results.Results object with attributes:\n",
       " \n",
       " boxes: ultralytics.engine.results.Boxes object\n",
       " keypoints: None\n",
       " masks: ultralytics.engine.results.Masks object\n",
       " names: {0: 'architekt-card', 1: 'ausguck-card', 2: 'barde-card', 3: 'basic-event-city-monument', 4: 'basic-event-expedition', 5: 'basic-event-grand-tour', 6: 'basic-event-harvest-festival', 7: 'basic-location-1-berry', 8: 'basic-location-1-berry-1-card', 9: 'basic-location-1-resen-1-card', 10: 'basic-location-1-stone', 11: 'basic-location-2-card-1-score', 12: 'basic-location-2-resen', 13: 'basic-location-2-wood-1-card', 14: 'basic-location-3-wood', 15: 'berry', 16: 'board', 17: 'boot-aus-zweigen-card', 18: 'bootskrote-card', 19: 'brieftaube-card', 20: 'doktor-card', 21: 'ehefrau-card', 22: 'ehemann-card', 23: 'farm-card', 24: 'fegehorchen-card', 25: 'festplatz-card', 26: 'forrest-cards', 27: 'friedhof-card', 28: 'gasthaus-card', 29: 'gastwirt-card', 30: 'gemischtwarenladen-card', 31: 'gericht-card', 32: 'harzraffinerie-card', 33: 'hausierer-card', 34: 'haven', 35: 'hirtin-card', 36: 'historiker-card', 37: 'holzschnitzer-card', 38: 'immerbaum-card', 39: 'journey-2', 40: 'journey-3', 41: 'journey-4', 42: 'journey-5', 43: 'kapelle-card', 44: 'kloster-card', 45: 'konig-card', 46: 'konigin-card', 47: 'kran-card', 48: 'ladeninhaber-card', 49: 'lager-card', 50: 'lehrer-card', 51: 'meinenmaulwurf-card', 52: 'mine-card', 53: 'minenmaulwurf-card', 54: 'monch-card', 55: 'narr-card', 56: 'occupied-token', 57: 'palast-card', 58: 'post-card', 59: 'resen', 60: 'richterin-card', 61: 'ruine-card', 62: 'schloss-card', 63: 'schule-card', 64: 'score-token-1', 65: 'score-token-3', 66: 'special-event-card', 67: 'stone', 68: 'theatre-card', 69: 'totengraberin-card', 70: 'uhrenturm-card', 71: 'universitat-card', 72: 'verlies-card', 73: 'waldlaufer-card', 74: 'wanderin-card', 75: 'wood', 76: 'worker-player-1', 77: 'worker-player-2'}\n",
       " obb: None\n",
       " orig_img: array([[[225, 230, 231],\n",
       "         [222, 227, 228],\n",
       "         [219, 224, 225],\n",
       "         ...,\n",
       "         [186, 201, 210],\n",
       "         [195, 210, 219],\n",
       "         [204, 219, 228]],\n",
       " \n",
       "        [[226, 231, 232],\n",
       "         [223, 228, 229],\n",
       "         [222, 227, 228],\n",
       "         ...,\n",
       "         [183, 198, 207],\n",
       "         [189, 204, 213],\n",
       "         [194, 209, 218]],\n",
       " \n",
       "        [[221, 226, 227],\n",
       "         [220, 225, 226],\n",
       "         [219, 224, 225],\n",
       "         ...,\n",
       "         [178, 193, 202],\n",
       "         [178, 193, 202],\n",
       "         [179, 194, 203]],\n",
       " \n",
       "        ...,\n",
       " \n",
       "        [[120, 132, 136],\n",
       "         [122, 134, 138],\n",
       "         [124, 136, 140],\n",
       "         ...,\n",
       "         [247, 251, 252],\n",
       "         [243, 247, 248],\n",
       "         [232, 236, 237]],\n",
       " \n",
       "        [[117, 129, 133],\n",
       "         [121, 133, 137],\n",
       "         [126, 138, 142],\n",
       "         ...,\n",
       "         [245, 249, 250],\n",
       "         [240, 244, 245],\n",
       "         [227, 231, 232]],\n",
       " \n",
       "        [[116, 128, 132],\n",
       "         [121, 133, 137],\n",
       "         [127, 139, 143],\n",
       "         ...,\n",
       "         [243, 247, 248],\n",
       "         [238, 242, 243],\n",
       "         [225, 229, 230]]], dtype=uint8)\n",
       " orig_shape: (4032, 3024)\n",
       " path: 'c:\\\\Users\\\\HP\\\\Desktop\\\\everdell.JPG'\n",
       " probs: None\n",
       " save_dir: 'runs\\\\segment\\\\predict'\n",
       " speed: {'preprocess': 3.9894580841064453, 'inference': 3264.6780014038086, 'postprocess': 26.001453399658203}]"
      ]
     },
     "execution_count": 8,
     "metadata": {},
     "output_type": "execute_result"
    }
   ],
   "source": [
    "#predictions = model(data_path)\n",
    "predictions = model(\"/Users/HP/Desktop/everdell.JPG\")\n",
    "predictions"
   ]
  },
  {
   "cell_type": "code",
   "execution_count": 9,
   "metadata": {},
   "outputs": [
    {
     "name": "stdout",
     "output_type": "stream",
     "text": [
      "Creating BaseItem instance for: farm-card\n",
      "Creating BaseItem instance for: score-token-1\n",
      "Creating BaseItem instance for: basic-event-grand-tour\n",
      "Creating BaseItem instance for: score-token-1\n",
      "Creating BaseItem instance for: farm-card\n",
      "Creating BaseItem instance for: kran-card\n",
      "Creating BaseItem instance for: gericht-card\n",
      "Creating BaseItem instance for: holzschnitzer-card\n",
      "Creating BaseItem instance for: lager-card\n",
      "Creating BaseItem instance for: boot-aus-zweigen-card\n",
      "Creating BaseItem instance for: universitat-card\n",
      "Creating BaseItem instance for: bootskrote-card\n"
     ]
    }
   ],
   "source": [
    "from schema.base_class import Box, BaseItem, Resource\n",
    "from schema.everdell_image import EverdellImage\n",
    "import json\n",
    "images: list[EverdellImage] = []\n",
    "# Iterate over each picture \n",
    "for prediction in predictions:\n",
    "    #prediction.show()  # display to screen\n",
    "    prediction_json = json.loads(prediction.to_json())\n",
    "    items: list[BaseItem] =  []\n",
    "    resources: list[Resource] = []\n",
    "    # For each object in each picture parse to the proper class\n",
    "    for object in prediction_json:\n",
    "        box_json = object[\"box\"]\n",
    "        box = Box(x1= box_json[\"x1\"], x2= box_json[\"x2\"], y1= box_json[\"y1\"], y2= box_json[\"y2\"])\n",
    "        item = BaseItem(object[\"name\"], object[\"class\"], object[\"confidence\"], box= box, segments=object[\"segments\"])\n",
    "        if isinstance(item, Resource):\n",
    "            resources.append(item)\n",
    "        else:\n",
    "            items.append(item)\n",
    "        \n",
    "    image = EverdellImage(items = items,resources=resources,prediction = prediction)\n",
    "    images.append(image)"
   ]
  },
  {
   "cell_type": "code",
   "execution_count": 10,
   "metadata": {},
   "outputs": [
    {
     "name": "stdout",
     "output_type": "stream",
     "text": [
      "['farm-card', 'score-token-1', 'basic-event-grand-tour', 'score-token-1', 'farm-card', 'kran-card', 'gericht-card', 'holzschnitzer-card', 'lager-card', 'boot-aus-zweigen-card', 'universitat-card', 'bootskrote-card']\n",
      "12\n",
      "farm-card: 1 \n",
      "\n",
      "score-token-1: 1 \n",
      "\n",
      "basic-event-grand-tour: 3 \n",
      "\n",
      "score-token-1: 1 \n",
      "\n",
      "farm-card: 1 \n",
      "\n",
      "kran-card: 1 \n",
      "\n",
      "gericht-card: 2 \n",
      "\n",
      "holzschnitzer-card: 2 \n",
      "\n",
      "lager-card: 2 \n",
      "\n",
      "boot-aus-zweigen-card: 1 \n",
      "\n",
      "universitat-card: 3 \n",
      "\n",
      "bootskrote-card: 1 \n",
      "\n",
      "19\n"
     ]
    }
   ],
   "source": [
    "for image in images:\n",
    "    print([item.name for item in image.items])\n",
    "    print(len(image.items))\n",
    "    print(image.calculate_score())\n",
    "    image.prediction.show()"
   ]
  }
 ],
 "metadata": {
  "kernelspec": {
   "display_name": "Python 3",
   "language": "python",
   "name": "python3"
  },
  "language_info": {
   "codemirror_mode": {
    "name": "ipython",
    "version": 3
   },
   "file_extension": ".py",
   "mimetype": "text/x-python",
   "name": "python",
   "nbconvert_exporter": "python",
   "pygments_lexer": "ipython3",
   "version": "3.11.0"
  }
 },
 "nbformat": 4,
 "nbformat_minor": 2
}
