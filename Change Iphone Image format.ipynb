{
 "cells": [
  {
   "cell_type": "code",
   "execution_count": 1,
   "metadata": {},
   "outputs": [],
   "source": [
    "import pillow_heif\n",
    "pillow_heif.register_heif_opener()\n"
   ]
  },
  {
   "cell_type": "code",
   "execution_count": 5,
   "metadata": {},
   "outputs": [
    {
     "name": "stdout",
     "output_type": "stream",
     "text": [
      "Converted IMG_6469.HEIC to JPEG\n",
      "Converted IMG_6465.HEIC to JPEG\n",
      "Converted IMG_6473.HEIC to JPEG\n",
      "Converted IMG_6472.HEIC to JPEG\n",
      "Converted IMG_6464.HEIC to JPEG\n",
      "Converted IMG_6468.HEIC to JPEG\n",
      "Converted IMG_6463.HEIC to JPEG\n",
      "Converted IMG_6459.HEIC to JPEG\n",
      "Converted IMG_6474.HEIC to JPEG\n",
      "Converted IMG_6462.HEIC to JPEG\n",
      "Converted IMG_6461.HEIC to JPEG\n",
      "Converted IMG_6460.HEIC to JPEG\n",
      "Skipped converted (not HEIC format)\n",
      "Converted IMG_6471.HEIC to JPEG\n",
      "Converted IMG_6467.HEIC to JPEG\n",
      "Converted IMG_6466.HEIC to JPEG\n",
      "Converted IMG_6470.HEIC to JPEG\n"
     ]
    }
   ],
   "source": [
    "import os\n",
    "from PIL import Image\n",
    "import pillow_heif\n",
    "\n",
    "pillow_heif.register_heif_opener()\n",
    "\n",
    "directory = '/Users/sharaf/github/ai-lab/city pics'\n",
    "converted_directory = os.path.join(directory, \"converted\")\n",
    "\n",
    "if not os.path.exists(converted_directory):\n",
    "    os.makedirs(converted_directory)\n",
    "\n",
    "for filename in os.listdir(directory):\n",
    "    file_path = os.path.join(directory, filename)\n",
    "    if filename.lower().endswith(\".heic\"):\n",
    "        try:\n",
    "            with Image.open(file_path) as img:\n",
    "                # Convert and save as JPEG\n",
    "                output_path = os.path.join(converted_directory, f\"{os.path.splitext(filename)[0]}.jpg\")\n",
    "                img.save(output_path, \"JPEG\")\n",
    "                print(f\"Converted {filename} to JPEG\")\n",
    "        except (IOError, Image.UnidentifiedImageError) as e:\n",
    "            print(f\"Cannot process HEIC file {filename}: {e}\")\n",
    "    else:\n",
    "        print(f\"Skipped {filename} (not HEIC format)\")\n"
   ]
  },
  {
   "cell_type": "code",
   "execution_count": 4,
   "metadata": {},
   "outputs": [
    {
     "name": "stdout",
     "output_type": "stream",
     "text": [
      "IMG_6469.HEIC loaded successfully\n",
      "IMG_6465.HEIC loaded successfully\n",
      "IMG_6473.HEIC loaded successfully\n",
      "IMG_6472.HEIC loaded successfully\n",
      "IMG_6464.HEIC loaded successfully\n",
      "IMG_6468.HEIC loaded successfully\n",
      "IMG_6463.HEIC loaded successfully\n",
      "IMG_6459.HEIC loaded successfully\n",
      "IMG_6474.HEIC loaded successfully\n",
      "IMG_6462.HEIC loaded successfully\n",
      "IMG_6461.HEIC loaded successfully\n",
      "IMG_6460.HEIC loaded successfully\n",
      "IMG_6471.HEIC loaded successfully\n",
      "IMG_6467.HEIC loaded successfully\n",
      "IMG_6466.HEIC loaded successfully\n",
      "IMG_6470.HEIC loaded successfully\n"
     ]
    }
   ],
   "source": [
    "import os\n",
    "from PIL import Image\n",
    "import pillow_heif\n",
    "\n",
    "directory = '/Users/sharaf/github/ai-lab/city pics'\n",
    "\n",
    "for filename in os.listdir(directory):\n",
    "    file_path = os.path.join(directory, filename)\n",
    "    try:\n",
    "        with Image.open(file_path) as img:\n",
    "            img.verify()  # Verify the file\n",
    "            print(f\"{filename} loaded successfully\")\n",
    "    except (IOError, Image.UnidentifiedImageError) as e:\n",
    "        print(f\"Cannot identify image file {filename}: {e}\")\n",
    "\n"
   ]
  }
 ],
 "metadata": {
  "kernelspec": {
   "display_name": ".venv",
   "language": "python",
   "name": "python3"
  },
  "language_info": {
   "codemirror_mode": {
    "name": "ipython",
    "version": 3
   },
   "file_extension": ".py",
   "mimetype": "text/x-python",
   "name": "python",
   "nbconvert_exporter": "python",
   "pygments_lexer": "ipython3",
   "version": "3.11.10"
  }
 },
 "nbformat": 4,
 "nbformat_minor": 2
}
